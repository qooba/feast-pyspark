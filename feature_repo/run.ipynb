{
 "cells": [
  {
   "cell_type": "code",
   "execution_count": 1,
   "id": "c2a8aff6-d355-4bb7-8480-2b8aa354b6b8",
   "metadata": {},
   "outputs": [
    {
     "name": "stdout",
     "output_type": "stream",
     "text": [
      "rm: cannot remove '.ipynb_checkpoints': No such file or directory\n",
      "Created entity \u001b[1m\u001b[32mentity_id\u001b[0m\n",
      "Created feature view \u001b[1m\u001b[32mmy_statistics\u001b[0m\n",
      "\n",
      "Created sqlite table \u001b[1m\u001b[32mrepo_my_statistics\u001b[0m\n",
      "\n"
     ]
    },
    {
     "name": "stderr",
     "output_type": "stream",
     "text": [
      "/opt/conda/lib/python3.9/site-packages/feast/feature_view.py:100: DeprecationWarning: The argument 'input' is being deprecated. Please use 'batch_source' instead. Feast 0.13 and onwards will not support the argument 'input'.\n",
      "  warnings.warn(\n"
     ]
    }
   ],
   "source": [
    "!rm -r .ipynb_checkpoints\n",
    "from feast.repo_operations import apply_total\n",
    "from feast.repo_config import load_repo_config\n",
    "from pathlib import Path\n",
    "\n",
    "repo = Path('/home/jovyan/feast-spark/feature_repo/')\n",
    "\n",
    "repo_config = load_repo_config(repo)\n",
    "apply_total(repo_config, repo, True)"
   ]
  },
  {
   "cell_type": "code",
   "execution_count": 1,
   "id": "c41562e0-85f5-4e3c-8d63-a8abc4498857",
   "metadata": {},
   "outputs": [
    {
     "data": {
      "text/html": [
       "<div>\n",
       "<style scoped>\n",
       "    .dataframe tbody tr th:only-of-type {\n",
       "        vertical-align: middle;\n",
       "    }\n",
       "\n",
       "    .dataframe tbody tr th {\n",
       "        vertical-align: top;\n",
       "    }\n",
       "\n",
       "    .dataframe thead th {\n",
       "        text-align: right;\n",
       "    }\n",
       "</style>\n",
       "<table border=\"1\" class=\"dataframe\">\n",
       "  <thead>\n",
       "    <tr style=\"text-align: right;\">\n",
       "      <th></th>\n",
       "      <th>entity_id</th>\n",
       "      <th>event_timestamp</th>\n",
       "    </tr>\n",
       "  </thead>\n",
       "  <tbody>\n",
       "    <tr>\n",
       "      <th>55</th>\n",
       "      <td>100</td>\n",
       "      <td>2021-01-03 23:59:42+00:00</td>\n",
       "    </tr>\n",
       "  </tbody>\n",
       "</table>\n",
       "</div>"
      ],
      "text/plain": [
       "    entity_id           event_timestamp\n",
       "55        100 2021-01-03 23:59:42+00:00"
      ]
     },
     "execution_count": 1,
     "metadata": {},
     "output_type": "execute_result"
    }
   ],
   "source": [
    "import pandas as pd\n",
    "import numpy as np\n",
    "from datetime import datetime, timezone\n",
    "from sklearn.datasets import make_hastie_10_2\n",
    "import warnings\n",
    "warnings.filterwarnings(\"ignore\", category=DeprecationWarning)\n",
    "\n",
    "def generate_entities(size):\n",
    "    return np.random.choice(size, size=size, replace=False)\n",
    "\n",
    "entities=generate_entities(101)\n",
    "\n",
    "entity_df = pd.DataFrame(data=entities, columns=['entity_id'])\n",
    "entity_df[\"event_timestamp\"]=datetime(2021, 1, 3, 23, 59, 42, tzinfo=timezone.utc)\n",
    "entity_df = entity_df[entity_df.entity_id==100]\n",
    "\n",
    "entity_df"
   ]
  },
  {
   "cell_type": "code",
   "execution_count": 4,
   "id": "96056fe0-c352-4cd6-9133-2c4fb2abf4bb",
   "metadata": {},
   "outputs": [
    {
     "name": "stdout",
     "output_type": "stream",
     "text": [
      "--- 2.3760743141174316 seconds ---\n"
     ]
    },
    {
     "data": {
      "text/html": [
       "<div>\n",
       "<style scoped>\n",
       "    .dataframe tbody tr th:only-of-type {\n",
       "        vertical-align: middle;\n",
       "    }\n",
       "\n",
       "    .dataframe tbody tr th {\n",
       "        vertical-align: top;\n",
       "    }\n",
       "\n",
       "    .dataframe thead th {\n",
       "        text-align: right;\n",
       "    }\n",
       "</style>\n",
       "<table border=\"1\" class=\"dataframe\">\n",
       "  <thead>\n",
       "    <tr style=\"text-align: right;\">\n",
       "      <th></th>\n",
       "      <th>entity_id</th>\n",
       "      <th>event_timestamp</th>\n",
       "      <th>f0</th>\n",
       "      <th>f1</th>\n",
       "      <th>f2</th>\n",
       "      <th>f3</th>\n",
       "      <th>f4</th>\n",
       "      <th>f5</th>\n",
       "      <th>f6</th>\n",
       "      <th>f7</th>\n",
       "      <th>f8</th>\n",
       "      <th>f9</th>\n",
       "      <th>y</th>\n",
       "    </tr>\n",
       "  </thead>\n",
       "  <tbody>\n",
       "    <tr>\n",
       "      <th>0</th>\n",
       "      <td>100</td>\n",
       "      <td>2021-01-03 23:59:42</td>\n",
       "      <td>0.868752</td>\n",
       "      <td>0.029004</td>\n",
       "      <td>-1.086818</td>\n",
       "      <td>1.968534</td>\n",
       "      <td>0.374946</td>\n",
       "      <td>-1.285755</td>\n",
       "      <td>-0.280189</td>\n",
       "      <td>1.455902</td>\n",
       "      <td>0.148187</td>\n",
       "      <td>0.300593</td>\n",
       "      <td>1.0</td>\n",
       "    </tr>\n",
       "  </tbody>\n",
       "</table>\n",
       "</div>"
      ],
      "text/plain": [
       "   entity_id     event_timestamp        f0        f1        f2        f3  \\\n",
       "0        100 2021-01-03 23:59:42  0.868752  0.029004 -1.086818  1.968534   \n",
       "\n",
       "         f4        f5        f6        f7        f8        f9    y  \n",
       "0  0.374946 -1.285755 -0.280189  1.455902  0.148187  0.300593  1.0  "
      ]
     },
     "execution_count": 4,
     "metadata": {},
     "output_type": "execute_result"
    }
   ],
   "source": [
    "from feast import FeatureStore\n",
    "import pandas as pd\n",
    "\n",
    "import time\n",
    "from feast_custom_offline_store.spark import SparkOfflineStore\n",
    "\n",
    "SparkOfflineStore.spark = spark\n",
    "store = FeatureStore(repo_path=\".\")\n",
    "\n",
    "start_time = time.time()\n",
    "training_df = store.get_historical_features(\n",
    "    entity_df=entity_df, \n",
    "    features = [\n",
    "        'my_statistics:f0',\n",
    "        'my_statistics:f1',\n",
    "        'my_statistics:f2',\n",
    "        'my_statistics:f3',\n",
    "        'my_statistics:f4',\n",
    "        'my_statistics:f5',\n",
    "        'my_statistics:f6',\n",
    "        'my_statistics:f7',\n",
    "        'my_statistics:f8',\n",
    "        'my_statistics:f9',\n",
    "        'my_statistics:y',\n",
    "    ],\n",
    ").to_df()\n",
    "\n",
    "\n",
    "print(\"--- %s seconds ---\" % (time.time() - start_time))\n",
    "\n",
    "training_df"
   ]
  }
 ],
 "metadata": {
  "kernelspec": {
   "display_name": "Python 3 (ipykernel)",
   "language": "python",
   "name": "python3"
  },
  "language_info": {
   "codemirror_mode": {
    "name": "ipython",
    "version": 3
   },
   "file_extension": ".py",
   "mimetype": "text/x-python",
   "name": "python",
   "nbconvert_exporter": "python",
   "pygments_lexer": "ipython3",
   "version": "3.9.7"
  }
 },
 "nbformat": 4,
 "nbformat_minor": 5
}
