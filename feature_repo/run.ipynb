{
 "cells": [
  {
   "cell_type": "code",
   "execution_count": null,
   "id": "533d004a-92e9-4c54-8ed3-f8a7d9657be3",
   "metadata": {},
   "outputs": [],
   "source": [
    "!pip install -e /home/jovyan/notebooks/feast-spark"
   ]
  },
  {
   "cell_type": "code",
   "execution_count": 1,
   "id": "c2a8aff6-d355-4bb7-8480-2b8aa354b6b8",
   "metadata": {},
   "outputs": [
    {
     "name": "stdout",
     "output_type": "stream",
     "text": [
      "Traceback (most recent call last):\n",
      "  File \"/opt/conda/lib/python3.9/site-packages/feast/importer.py\", line 26, in import_class\n",
      "    module = importlib.import_module(module_name)\n",
      "  File \"/opt/conda/lib/python3.9/importlib/__init__.py\", line 127, in import_module\n",
      "    return _bootstrap._gcd_import(name[level:], package, level)\n",
      "  File \"<frozen importlib._bootstrap>\", line 1030, in _gcd_import\n",
      "  File \"<frozen importlib._bootstrap>\", line 1007, in _find_and_load\n",
      "  File \"<frozen importlib._bootstrap>\", line 986, in _find_and_load_unlocked\n",
      "  File \"<frozen importlib._bootstrap>\", line 680, in _load_unlocked\n",
      "  File \"<frozen importlib._bootstrap_external>\", line 846, in exec_module\n",
      "  File \"<frozen importlib._bootstrap_external>\", line 983, in get_code\n",
      "  File \"<frozen importlib._bootstrap_external>\", line 913, in source_to_code\n",
      "  File \"<frozen importlib._bootstrap>\", line 228, in _call_with_frames_removed\n",
      "  File \"/home/jovyan/notebooks/feast-spark/feast_custom_offline_store/spark.py\", line 33\n",
      "    else\n",
      "        ^\n",
      "SyntaxError: invalid syntax\n",
      "\n",
      "The above exception was the direct cause of the following exception:\n",
      "\n",
      "Traceback (most recent call last):\n",
      "  File \"/opt/conda/bin/feast\", line 8, in <module>\n",
      "    sys.exit(cli())\n",
      "  File \"/opt/conda/lib/python3.9/site-packages/click/core.py\", line 1128, in __call__\n",
      "    return self.main(*args, **kwargs)\n",
      "  File \"/opt/conda/lib/python3.9/site-packages/click/core.py\", line 1053, in main\n",
      "    rv = self.invoke(ctx)\n",
      "  File \"/opt/conda/lib/python3.9/site-packages/click/core.py\", line 1659, in invoke\n",
      "    return _process_result(sub_ctx.command.invoke(sub_ctx))\n",
      "  File \"/opt/conda/lib/python3.9/site-packages/click/core.py\", line 1395, in invoke\n",
      "    return ctx.invoke(self.callback, **ctx.params)\n",
      "  File \"/opt/conda/lib/python3.9/site-packages/click/core.py\", line 754, in invoke\n",
      "    return __callback(*args, **kwargs)\n",
      "  File \"/opt/conda/lib/python3.9/site-packages/click/decorators.py\", line 26, in new_func\n",
      "    return f(get_current_context(), *args, **kwargs)\n",
      "  File \"/opt/conda/lib/python3.9/site-packages/feast/cli.py\", line 387, in apply_total_command\n",
      "    repo_config = load_repo_config(repo)\n",
      "  File \"/opt/conda/lib/python3.9/site-packages/feast/repo_config.py\", line 352, in load_repo_config\n",
      "    c = RepoConfig(**raw_config)\n",
      "  File \"/opt/conda/lib/python3.9/site-packages/feast/repo_config.py\", line 117, in __init__\n",
      "    super().__init__(**data)\n",
      "  File \"pydantic/main.py\", line 329, in pydantic.main.BaseModel.__init__\n",
      "  File \"pydantic/main.py\", line 996, in pydantic.main.validate_model\n",
      "  File \"/opt/conda/lib/python3.9/site-packages/feast/repo_config.py\", line 217, in _validate_offline_store_config\n",
      "    offline_config_class = get_offline_config_from_type(offline_store_type)\n",
      "  File \"/opt/conda/lib/python3.9/site-packages/feast/repo_config.py\", line 333, in get_offline_config_from_type\n",
      "    return import_class(module_name, config_class_name, config_class_name)\n",
      "  File \"/opt/conda/lib/python3.9/site-packages/feast/importer.py\", line 31, in import_class\n",
      "    raise FeastModuleImportError(module_name, class_name) from e\n",
      "feast.errors.FeastModuleImportError: Could not import module 'feast_custom_offline_store.spark' while attempting to load class 'SparkOfflineStoreConfig'\n"
     ]
    }
   ],
   "source": [
    "!feast apply"
   ]
  },
  {
   "cell_type": "code",
   "execution_count": 7,
   "id": "c41562e0-85f5-4e3c-8d63-a8abc4498857",
   "metadata": {},
   "outputs": [
    {
     "data": {
      "text/html": [
       "<div>\n",
       "<style scoped>\n",
       "    .dataframe tbody tr th:only-of-type {\n",
       "        vertical-align: middle;\n",
       "    }\n",
       "\n",
       "    .dataframe tbody tr th {\n",
       "        vertical-align: top;\n",
       "    }\n",
       "\n",
       "    .dataframe thead th {\n",
       "        text-align: right;\n",
       "    }\n",
       "</style>\n",
       "<table border=\"1\" class=\"dataframe\">\n",
       "  <thead>\n",
       "    <tr style=\"text-align: right;\">\n",
       "      <th></th>\n",
       "      <th>entity_id</th>\n",
       "      <th>event_timestamp</th>\n",
       "    </tr>\n",
       "  </thead>\n",
       "  <tbody>\n",
       "    <tr>\n",
       "      <th>71</th>\n",
       "      <td>100</td>\n",
       "      <td>2021-01-03 23:59:42+00:00</td>\n",
       "    </tr>\n",
       "  </tbody>\n",
       "</table>\n",
       "</div>"
      ],
      "text/plain": [
       "    entity_id           event_timestamp\n",
       "71        100 2021-01-03 23:59:42+00:00"
      ]
     },
     "execution_count": 7,
     "metadata": {},
     "output_type": "execute_result"
    }
   ],
   "source": [
    "import pandas as pd\n",
    "import numpy as np\n",
    "from datetime import datetime, timezone\n",
    "from sklearn.datasets import make_hastie_10_2\n",
    "import warnings\n",
    "warnings.filterwarnings(\"ignore\", category=DeprecationWarning)\n",
    "\n",
    "def generate_entities(size):\n",
    "    return np.random.choice(size, size=size, replace=False)\n",
    "\n",
    "entities=generate_entities(101)\n",
    "\n",
    "entity_df = pd.DataFrame(data=entities, columns=['entity_id'])\n",
    "entity_df[\"event_timestamp\"]=datetime(2021, 1, 3, 23, 59, 42, tzinfo=timezone.utc)\n",
    "entity_df = entity_df[entity_df.entity_id==100]\n",
    "\n",
    "entity_df"
   ]
  },
  {
   "cell_type": "code",
   "execution_count": null,
   "id": "96056fe0-c352-4cd6-9133-2c4fb2abf4bb",
   "metadata": {},
   "outputs": [],
   "source": [
    "from feast import FeatureStore\n",
    "import pandas as pd\n",
    "\n",
    "import time\n",
    "\n",
    "store = FeatureStore(repo_path=\".\")\n",
    "\n",
    "start_time = time.time()\n",
    "training_df = store.get_historical_features(\n",
    "    entity_df=pd.read_parquet('./dataset/entity_df.parquet'), \n",
    "    features = [\n",
    "        'my_statistics:f0',\n",
    "        'my_statistics:f1',\n",
    "        'my_statistics:f2',\n",
    "        'my_statistics:f3',\n",
    "        'my_statistics:f4',\n",
    "        'my_statistics:f5',\n",
    "        'my_statistics:f6',\n",
    "        'my_statistics:f7',\n",
    "        'my_statistics:f8',\n",
    "        'my_statistics:f9',\n",
    "        'my_statistics:y',\n",
    "    ],\n",
    ").to_df()\n",
    "\n",
    "print(training_df)\n",
    "print(\"--- %s seconds ---\" % (time.time() - start_time))"
   ]
  }
 ],
 "metadata": {
  "kernelspec": {
   "display_name": "Python 3 (ipykernel)",
   "language": "python",
   "name": "python3"
  },
  "language_info": {
   "codemirror_mode": {
    "name": "ipython",
    "version": 3
   },
   "file_extension": ".py",
   "mimetype": "text/x-python",
   "name": "python",
   "nbconvert_exporter": "python",
   "pygments_lexer": "ipython3",
   "version": "3.9.7"
  }
 },
 "nbformat": 4,
 "nbformat_minor": 5
}
